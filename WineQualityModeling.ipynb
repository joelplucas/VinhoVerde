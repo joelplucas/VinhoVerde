{
 "cells": [
  {
   "cell_type": "code",
   "execution_count": 95,
   "metadata": {},
   "outputs": [],
   "source": [
    "import pandas as pd\n",
    "import numpy as np\n",
    "\n",
    "import matplotlib.pyplot as plt\n",
    "\n",
    "from sklearn.ensemble import RandomForestClassifier\n",
    "from sklearn.linear_model import LogisticRegression\n",
    "from sklearn.neighbors import KNeighborsClassifier\n",
    "from sklearn.tree import DecisionTreeClassifier\n",
    "from sklearn.neural_network import MLPClassifier\n",
    "from sklearn.svm import SVC\n",
    "from sklearn.model_selection import GridSearchCV, cross_val_score, StratifiedKFold, learning_curve\n",
    "\n",
    "import eda.edautils as eda"
   ]
  },
  {
   "cell_type": "markdown",
   "metadata": {},
   "source": [
    "## 1. Carregando os dados\n",
    "Para fins de comparação do modelo, os dados originais (sem o processamento relativo a EDA), também são carregado."
   ]
  },
  {
   "cell_type": "code",
   "execution_count": 96,
   "metadata": {},
   "outputs": [],
   "source": [
    "wine_data = pd.read_csv('data/winequality_processed.csv')"
   ]
  },
  {
   "cell_type": "code",
   "execution_count": 97,
   "metadata": {},
   "outputs": [],
   "source": [
    "wine_data_original = pd.read_csv('data/winequality.csv', sep=';')\n",
    "eda.to_categorical(wine_data_original, 'type')\n",
    "errors = wine_data_original['alcohol'][pd.to_numeric(wine_data_original['alcohol'], errors='coerce').isnull()]\n",
    "wine_data_original.drop(errors.index, inplace=True)"
   ]
  },
  {
   "cell_type": "markdown",
   "metadata": {},
   "source": [
    "## 2. Separar os dados de treino e do label"
   ]
  },
  {
   "cell_type": "code",
   "execution_count": 98,
   "metadata": {},
   "outputs": [],
   "source": [
    "def divide_training_data(data):\n",
    "    data['quality'] = data['quality'].astype(int)\n",
    "    X_train = data.drop(labels=['quality'], axis=1)\n",
    "    label_train = data['quality']\n",
    "    return X_train, label_train"
   ]
  },
  {
   "cell_type": "markdown",
   "metadata": {},
   "source": [
    "## 3. Validação cruzada (k-fold)\n",
    "Utilizar validação cruzada (k-fold) para estimar a qualidade do modelo. Escolheu-se 10 para o valor de k, o número iterações do processo, onde em cada iteração uma parte do conjunto de dados é utilizada para ser o conjunto de teste. Os conjuntos de dados de teste utilizados em cada iteração são mutuamente exclusivos."
   ]
  },
  {
   "cell_type": "code",
   "execution_count": 99,
   "metadata": {},
   "outputs": [],
   "source": [
    "kfold = StratifiedKFold(5)"
   ]
  },
  {
   "cell_type": "markdown",
   "metadata": {},
   "source": [
    "## 4. Testando vários algoritmos de classificação\n",
    "Visto que o conjunto de dados em questão é pequeno e também que a biblioteca sklearn disponibiliza várias funções para avaliação de modelos com validação cruzada, selecionou-se os principais algoritmos disponíveis na mesma (Floresta Aleatória, SVM, Árvore de Decisão, MLP(Rede Neural), Vizinho mais Próximo e Regressão Logística) para serem testados na tarefa de aproximação dentro dos dados processados anteriormente na análise exploratória.\n",
    "\n",
    "Ao serem executados com os parâmetros padrão, SVM e Floresta Aleatória apresentaram a maior acurácia na classificação dos dados, 0.804 e 0.807, respectivamente."
   ]
  },
  {
   "cell_type": "code",
   "execution_count": 100,
   "metadata": {},
   "outputs": [],
   "source": [
    "classifiers = []\n",
    "classifiers.append(RandomForestClassifier())\n",
    "classifiers.append(SVC())\n",
    "classifiers.append(DecisionTreeClassifier())\n",
    "classifiers.append(MLPClassifier())\n",
    "classifiers.append(KNeighborsClassifier())\n",
    "classifiers.append(LogisticRegression())\n"
   ]
  },
  {
   "cell_type": "code",
   "execution_count": 101,
   "metadata": {},
   "outputs": [],
   "source": [
    "def check_model_accuracy(classifiers, X_train, label_train):\n",
    "    results = []\n",
    "    for classifier in classifiers :\n",
    "        results.append(cross_val_score(classifier, X_train, y=label_train, scoring=\"accuracy\", cv=kfold))\n",
    "\n",
    "    results_mean = []\n",
    "    results_std = []\n",
    "    for result in results:\n",
    "        results_mean.append(result.mean())\n",
    "        results_std.append(result.std())\n",
    "\n",
    "    return results, results_mean, results_std"
   ]
  },
  {
   "cell_type": "code",
   "execution_count": 102,
   "metadata": {},
   "outputs": [
    {
     "name": "stdout",
     "output_type": "stream",
     "text": [
      "[0.8023942092779552, 0.8069461917492056, 0.7487827802884255, 0.8054343135346036, 0.7789613193311415, 0.7975059531506985]\n"
     ]
    }
   ],
   "source": [
    "X_train, label_train = divide_training_data(wine_data)\n",
    "\n",
    "processed_results, processed_means, processed_std = check_model_accuracy(classifiers, X_train, label_train)\n",
    "print(processed_means)"
   ]
  },
  {
   "cell_type": "markdown",
   "metadata": {},
   "source": [
    "## 5. Tunning dos parâmetros e Escolha do algoritmo \n",
    "Visto que dois algoritmos atingiram praticamente a mesma precisão e que todos algoritmos foram executados com parâmetros default, deve-se definir com mais rigor tais parâmetros para que se possa escolher um dos dois algoritmos para construir o modelo final. Para tanto, é possível definir um conjunto de possíveis parâmetros para serem testados. O final da execução retorna a melhor combinação de parâmetros."
   ]
  },
  {
   "cell_type": "code",
   "execution_count": 103,
   "metadata": {},
   "outputs": [],
   "source": [
    "k = 5\n",
    "n_jobs=4"
   ]
  },
  {
   "cell_type": "markdown",
   "metadata": {},
   "source": [
    "### 5.1 SVM"
   ]
  },
  {
   "cell_type": "code",
   "execution_count": 104,
   "metadata": {},
   "outputs": [
    {
     "data": {
      "text/plain": [
       "0.8098128477491148"
      ]
     },
     "execution_count": 104,
     "metadata": {},
     "output_type": "execute_result"
    }
   ],
   "source": [
    "SVMC = SVC(probability=True)\n",
    "param_grid = {'kernel':['rbf'], 'gamma':[0.001, 0.01, 0.1, 1], 'C':[1,10,50,100,200,300,1000]}\n",
    "\n",
    "gsSVMC = GridSearchCV(SVMC, param_grid=param_grid, cv=k, scoring=\"accuracy\", n_jobs=n_jobs)\n",
    "gsSVMC.fit(X_train,label_train)\n",
    "gsSVMC.best_score_"
   ]
  },
  {
   "cell_type": "markdown",
   "metadata": {},
   "source": [
    "### 5.2 Random Forest"
   ]
  },
  {
   "cell_type": "code",
   "execution_count": 105,
   "metadata": {},
   "outputs": [
    {
     "name": "stdout",
     "output_type": "stream",
     "text": [
      "Fitting 5 folds for each of 108 candidates, totalling 540 fits\n"
     ]
    },
    {
     "name": "stderr",
     "output_type": "stream",
     "text": [
      "[Parallel(n_jobs=4)]: Done  42 tasks      | elapsed:   41.1s\n",
      "[Parallel(n_jobs=4)]: Done 192 tasks      | elapsed:  3.7min\n",
      "[Parallel(n_jobs=4)]: Done 442 tasks      | elapsed:  8.3min\n",
      "[Parallel(n_jobs=4)]: Done 540 out of 540 | elapsed: 10.1min finished\n"
     ]
    },
    {
     "name": "stdout",
     "output_type": "stream",
     "text": [
      "RandomForestClassifier(bootstrap=True, class_weight=None, criterion='gini',\n",
      "            max_depth=10, max_features='log2', max_leaf_nodes=100,\n",
      "            min_impurity_decrease=0.0, min_impurity_split=None,\n",
      "            min_samples_leaf=2, min_samples_split=5,\n",
      "            min_weight_fraction_leaf=0.0, n_estimators=400, n_jobs=1,\n",
      "            oob_score=False, random_state=None, verbose=0,\n",
      "            warm_start=False)\n",
      "0.8150396223233856\n"
     ]
    }
   ],
   "source": [
    "RFC = RandomForestClassifier()\n",
    "\n",
    "param_grid = {'n_estimators':[400], 'max_leaf_nodes':[100,250], 'min_samples_split':[5,8,10], 'max_features':['log2','sqrt'], 'max_depth':[10,16,20], 'min_samples_leaf':[2,5,10]} \n",
    "gridsRFC = GridSearchCV(RFC, param_grid=param_grid, cv=k, scoring=\"accuracy\", n_jobs=n_jobs, verbose=1)\n",
    "gridsRFC.fit(X_train, label_train)\n",
    "\n",
    "print(gridsRFC.best_estimator_)\n",
    "print(gridsRFC.best_score_)\n"
   ]
  },
  {
   "cell_type": "markdown",
   "metadata": {},
   "source": [
    "## 6. Tunning dos parâmetros e Função Custo\n",
    "Ao analisar a acurácia atingida pelos dois algoritmos com várias combinações de parâmetros, observou-se que o algoritmo de RadomForest atingiu o melhor resultado (0.8104 x ). Portanto, tal algoritmo foi escolhido para construir o modelo de dados de qualidade do vinho. Para tanto, o algoritmo deve ser instanciado utilizando a melhor combinação de parâmetros devem alcançada no passo anterior:"
   ]
  },
  {
   "cell_type": "code",
   "execution_count": 106,
   "metadata": {},
   "outputs": [
    {
     "name": "stdout",
     "output_type": "stream",
     "text": [
      "RandomForestClassifier(bootstrap=True, class_weight=None, criterion='gini',\n",
      "            max_depth=10, max_features='log2', max_leaf_nodes=100,\n",
      "            min_impurity_decrease=0.0, min_impurity_split=None,\n",
      "            min_samples_leaf=2, min_samples_split=5,\n",
      "            min_weight_fraction_leaf=0.0, n_estimators=400, n_jobs=1,\n",
      "            oob_score=False, random_state=None, verbose=0,\n",
      "            warm_start=False)\n"
     ]
    }
   ],
   "source": [
    "best_params = {'n_estimators':[400], 'max_leaf_nodes':[250], 'min_samples_split':[8], 'max_features':['log2','sqrt'], 'max_depth':[16], 'min_samples_leaf':[5]} \n",
    "print(gridsRFC.best_estimator_)\n"
   ]
  },
  {
   "cell_type": "markdown",
   "metadata": {},
   "source": [
    "É importante observar a função custo do algoritmo escolhido (RandomForest), o qual consiste de um \"ensemble\" (combinação) da classificação de várias árvores de decisão. As iterações realizadas por uma árvore de decisão para aprender um modelo consistem de sucessivos splits (partições) no conjunto de datos. Para avaliar tais splits, o algoritmo utiliza o índice Gini como função custo, o qual mede a impureza de um subconjunto dos dados calculando a homenidade dos valores do label (i.e.: o quão heterogêneo são os valores do label em tal subconjunto)."
   ]
  },
  {
   "cell_type": "markdown",
   "metadata": {},
   "source": [
    "## 7. Curva de aprendizagem \n",
    "A curva de aprendizagem (learning curve) abaixo mostra que, apesar da variação dos dados de treino em relação aos de teste ser relativamente alta, não se pode afirmar que existe uma tendência de over fitting, pois os scores do conjunto de teste seguem uma tendência com o número de exemplos."
   ]
  },
  {
   "cell_type": "code",
   "execution_count": 134,
   "metadata": {},
   "outputs": [],
   "source": [
    "def plot_learning_curve(estimator, title, X, y, train_sizes=[1, 4744], cv=None):\n",
    "    plt.figure()\n",
    "    plt.title(title)\n",
    "    plt.xlabel(\"Training samples\")\n",
    "    plt.ylabel(\"Accuracy\")\n",
    "    train_sizes, train_scores, test_scores = learning_curve(estimator, X, y, cv=cv, train_sizes=train_sizes)\n",
    "    train_scores_mean = np.mean(train_scores, axis=1)\n",
    "    train_scores_std = np.std(train_scores, axis=1)\n",
    "    test_scores_mean = np.mean(test_scores, axis=1)\n",
    "    test_scores_std = np.std(test_scores, axis=1)\n",
    "    plt.grid()\n",
    "\n",
    "    plt.fill_between(train_sizes, train_scores_mean - train_scores_std, train_scores_mean + train_scores_std, alpha=0.1, color=\"r\")\n",
    "    plt.fill_between(train_sizes, test_scores_mean - test_scores_std, test_scores_mean + test_scores_std, alpha=0.1, color=\"g\")\n",
    "    plt.plot(train_sizes, train_scores_mean, 'o-', color=\"r\", label=\"Training accuracy\")\n",
    "    plt.plot(train_sizes, test_scores_mean, 'o-', color=\"g\", label=\"Cross validation accuracy\")\n",
    "    plt.legend(loc=\"best\")\n",
    "    return plt\n"
   ]
  },
  {
   "cell_type": "code",
   "execution_count": 135,
   "metadata": {},
   "outputs": [
    {
     "data": {
      "image/png": "[encoded data removed]",
      "text/plain": [
       "<Figure size 432x288 with 1 Axes>"
      ]
     },
     "metadata": {},
     "output_type": "display_data"
    }
   ],
   "source": [
    "g = plot_learning_curve(gridsRFC.best_estimator_, \"learning curves\", X_train, label_train, cv=kfold)"
   ]
  },
  {
   "cell_type": "markdown",
   "metadata": {},
   "source": [
    "## 8. Comparação com o modelo sem EDA\n",
    "Como último teste, pode-se comparar o valor das precisões atingidas entre o modelo final depois de tratar os dados e  um modelo com os dados originais fornecidos (sem nenhum processamento). Nota-se o modelo final é significativamente superior ao modelo que utiliza os dados originais."
   ]
  },
  {
   "cell_type": "code",
   "execution_count": 108,
   "metadata": {},
   "outputs": [
    {
     "name": "stdout",
     "output_type": "stream",
     "text": [
      "[0.4695408894050562, 0.4370378219285998, 0.3981754044718019, 0.46209805127101244, 0.39738076522072535, 0.4995894911588966]\n",
      "[0.04119281477433396, 0.02470528858689971, 0.013381445818249472, 0.05636426639103975, 0.02014955154440581, 0.054995228238808314]\n"
     ]
    }
   ],
   "source": [
    "original_X_train, original_label_train = divide_training_data(wine_data_original)\n",
    "original_results, original_means, original_std = check_model_accuracy(classifiers, original_X_train, original_label_train)\n",
    "\n",
    "print(original_means)\n",
    "print(original_std)"
   ]
  },
  {
   "cell_type": "code",
   "execution_count": null,
   "metadata": {},
   "outputs": [],
   "source": []
  },
  {
   "cell_type": "code",
   "execution_count": null,
   "metadata": {},
   "outputs": [],
   "source": []
  }
 ],
 "metadata": {
  "kernelspec": {
   "display_name": "Python 3",
   "language": "python",
   "name": "python3"
  },
  "language_info": {
   "codemirror_mode": {
    "name": "ipython",
    "version": 3
   },
   "file_extension": ".py",
   "mimetype": "text/x-python",
   "name": "python",
   "nbconvert_exporter": "python",
   "pygments_lexer": "ipython3",
   "version": "3.7.0"
  }
 },
 "nbformat": 4,
 "nbformat_minor": 2
}
